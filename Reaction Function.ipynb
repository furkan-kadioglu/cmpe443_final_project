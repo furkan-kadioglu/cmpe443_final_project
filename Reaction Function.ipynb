{
 "cells": [
  {
   "cell_type": "code",

   "execution_count": 46,

   "metadata": {},
   "outputs": [],
   "source": [
    "import matplotlib.pyplot as pyplot\n",
    "import numpy as np"
   ]
  },
  {
   "cell_type": "code",

   "execution_count": 47,
   "metadata": {},
   "outputs": [],
   "source": [
    "x = np.arange(0, 25.5, step=1)"

   ]
  },
  {
   "cell_type": "code",

   "execution_count": 48,

   "metadata": {},
   "outputs": [
    {
     "data": {
      "text/plain": [

       "(array([ 0.,  1.,  2.,  3.,  4.,  5.,  6.,  7.,  8.,  9., 10., 11., 12.,\n",
       "        13., 14., 15., 16., 17., 18., 19., 20., 21., 22., 23., 24., 25.]), 26)"
      ]
     },
     "execution_count": 48,

     "metadata": {},
     "output_type": "execute_result"
    }
   ],
   "source": [
    "x, len(x)"
   ]
  },
  {
   "cell_type": "code",

   "execution_count": 49,

   "metadata": {},
   "outputs": [],
   "source": [
    "y = np.linspace(0, 100, num=len(x))\n",

    "y[0:21] = np.linspace(0, 25, num=21)\n",
    "y[np.where(x==21)[0][0]] = 33\n",
    "y[np.where(x==22)[0][0]] = 55\n",
    "y[np.where(x==23)[0][0]] = 70\n",
    "y[np.where(x==24)[0][0]] = 80\n",

    "y[np.where(x==25)[0][0]] = 100"
   ]
  },
  {
   "cell_type": "code",

   "execution_count": 50,

   "metadata": {},
   "outputs": [
    {
     "data": {
      "text/plain": [

       "(array([  0.  ,   1.25,   2.5 ,   3.75,   5.  ,   6.25,   7.5 ,   8.75,\n",
       "         10.  ,  11.25,  12.5 ,  13.75,  15.  ,  16.25,  17.5 ,  18.75,\n",
       "         20.  ,  21.25,  22.5 ,  23.75,  25.  ,  33.  ,  55.  ,  70.  ,\n",
       "         80.  , 100.  ]), 26)"
      ]
     },
     "execution_count": 50,

     "metadata": {},
     "output_type": "execute_result"
    }
   ],
   "source": [
    "y, len(y)"
   ]
  },
  {
   "cell_type": "code",

   "execution_count": 51,

   "metadata": {},
   "outputs": [],
   "source": [
    "# transforming the data to include another axis\n",
    "x = x[:, np.newaxis]\n",
    "y = y[:, np.newaxis]"
   ]
  },
  {
   "cell_type": "code",

   "execution_count": 54,

   "metadata": {},
   "outputs": [
    {
     "name": "stdout",
     "output_type": "stream",
     "text": [

      "[0.] [1. 0. 0. 0. 0. 0.]\n",
      "2.715432720339284\n",
      "0.9880397194904137\n"

     ]
    },
    {
     "data": {

      "image/png": "[encoded data removed]",

      "text/plain": [
       "<Figure size 432x288 with 1 Axes>"
      ]
     },
     "metadata": {
      "needs_background": "light"
     },
     "output_type": "display_data"
    }
   ],
   "source": [
    "import operator\n",
    "\n",
    "import numpy as np\n",
    "import matplotlib.pyplot as plt\n",
    "\n",
    "from sklearn.linear_model import LinearRegression\n",
    "from sklearn.metrics import mean_squared_error, r2_score\n",
    "from sklearn.preprocessing import PolynomialFeatures\n",
    "\n",
    "\n",

    "polynomial_features= PolynomialFeatures(degree=5)\n",

    "x_poly = polynomial_features.fit_transform(x)\n",
    "print(x[0], x_poly[0])\n",
    "model = LinearRegression(fit_intercept=False)\n",
    "model.fit(x_poly, y)\n",
    "y_poly_pred = model.predict(x_poly)\n",
    "\n",
    "rmse = np.sqrt(mean_squared_error(y,y_poly_pred))\n",
    "r2 = r2_score(y,y_poly_pred)\n",
    "print(rmse)\n",
    "print(r2)\n",
    "\n",
    "plt.scatter(x, y, s=10)\n",
    "# sort the values of x before line plot\n",
    "sort_axis = operator.itemgetter(0)\n",
    "sorted_zip = sorted(zip(x,y_poly_pred), key=sort_axis)\n",
    "x, y_poly_pred = zip(*sorted_zip)\n",
    "plt.plot(x, y_poly_pred, color='m')\n",
    "plt.show()"
   ]
  },
  {
   "cell_type": "code",

   "execution_count": 55,

   "metadata": {},
   "outputs": [
    {
     "data": {
      "text/plain": [

       "array([[ 8.07487902e-01, -4.37301392e-02,  3.23392031e-01,\n",
       "        -2.04133996e-02, -2.07015918e-04,  3.08070737e-05]])"
      ]
     },
     "execution_count": 55,

     "metadata": {},
     "output_type": "execute_result"
    }
   ],
   "source": [
    "model.coef_"
   ]
  },
  {
   "cell_type": "code",

   "execution_count": 56,

   "metadata": {},
   "outputs": [
    {
     "data": {
      "text/plain": [
       "0.0"
      ]
     },

     "execution_count": 56,

     "metadata": {},
     "output_type": "execute_result"
    }
   ],
   "source": [
    "model.intercept_"
   ]
  },
  {
   "cell_type": "code",

   "execution_count": 57,

   "metadata": {},
   "outputs": [],
   "source": [
    "def f(a):\n",
    "    result = model.coef_[0,0]*np.power(a, 0)\n",
    "    s1 = \"%f \"%(model.coef_[0,0])\n",
    "    s2 = \"%f \"%(model.coef_[0,0])\n",
    "    for i in range(1, len(model.coef_[0])):\n",
    "        result += model.coef_[0,i]*np.power(a, i)\n",
    "        if model.coef_[0,i] > 0:\n",
    "            s1 += \"+\"\n",
    "            s2 += \"+\"\n",
    "        \n",
    "        s1 += \"%f * x^%d \"%(model.coef_[0,i], i)\n",
    "        s2 += \"%f * pow(x, %d) \"%(model.coef_[0,i], i)\n",
    "    print(\"%s\"%(s1))\n",
    "    print(\"//#define REACTION(x) (%s)\"%(s2))\n",
    "    return result"
   ]
  },
  {
   "cell_type": "code",

   "execution_count": 58,
   "metadata": {},
   "outputs": [],
   "source": [
    "t = np.arange(-100, 100, step=1)"

   ]
  },
  {
   "cell_type": "code",

   "execution_count": 59,

   "metadata": {},
   "outputs": [
    {
     "name": "stdout",
     "output_type": "stream",
     "text": [

      "0.807488 -0.043730 * x^1 +0.323392 * x^2 -0.020413 * x^3 -0.000207 * x^4 +0.000031 * x^5 \n",
      "//#define REACTION(x) (0.807488 -0.043730 * pow(x, 1) +0.323392 * pow(x, 2) -0.020413 * pow(x, 3) -0.000207 * pow(x, 4) +0.000031 * pow(x, 5) )\n"

     ]
    },
    {
     "data": {
      "text/plain": [

       "[<matplotlib.lines.Line2D at 0x1a1ed73d68>]"
      ]
     },
     "execution_count": 59,

     "metadata": {},
     "output_type": "execute_result"
    },
    {
     "data": {

      "image/png": "[encoded data removed]",

      "text/plain": [
       "<Figure size 432x288 with 1 Axes>"
      ]
     },
     "metadata": {
      "needs_background": "light"
     },
     "output_type": "display_data"
    }
   ],
   "source": [
    "plt.plot(t, f(t), color='m')"
   ]
  },
  {
   "cell_type": "code",
   "execution_count": null,
   "metadata": {},
   "outputs": [],
   "source": []
  }
 ],
 "metadata": {
  "kernelspec": {
   "display_name": "Python 3",
   "language": "python",
   "name": "python3"
  },
  "language_info": {
   "codemirror_mode": {
    "name": "ipython",
    "version": 3
   },
   "file_extension": ".py",
   "mimetype": "text/x-python",
   "name": "python",
   "nbconvert_exporter": "python",
   "pygments_lexer": "ipython3",
   "version": "3.6.8"
  }
 },
 "nbformat": 4,
 "nbformat_minor": 2
}
