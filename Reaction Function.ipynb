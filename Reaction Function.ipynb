{
 "cells": [
  {
   "cell_type": "code",
   "execution_count": 2,
   "metadata": {},
   "outputs": [],
   "source": [
    "import matplotlib.pyplot as pyplot\n",
    "import numpy as np"
   ]
  },
  {
   "cell_type": "code",
   "execution_count": 9,
   "metadata": {},
   "outputs": [],
   "source": [
    "x = np.arange(15, 25.5, step=1)"
   ]
  },
  {
   "cell_type": "code",
   "execution_count": 10,
   "metadata": {},
   "outputs": [],
   "source": [
    "x = np.array(list(x[:-1]) + [24.25, 24.5, 24.75, 25.0])"
   ]
  },
  {
   "cell_type": "code",
   "execution_count": 11,
   "metadata": {},
   "outputs": [
    {
     "data": {
      "text/plain": [
       "(array([15.  , 16.  , 17.  , 18.  , 19.  , 20.  , 21.  , 22.  , 23.  ,\n",
       "        24.  , 24.25, 24.5 , 24.75, 25.  ]), 14)"
      ]
     },
     "execution_count": 11,
     "metadata": {},
     "output_type": "execute_result"
    }
   ],
   "source": [
    "x, len(x)"
   ]
  },
  {
   "cell_type": "code",
   "execution_count": 12,
   "metadata": {},
   "outputs": [],
   "source": [
    "y = np.linspace(0, 100, num=len(x))\n",
    "y[np.where(x==15)[0][0]] = 0\n",
    "y[np.where(x==16)[0][0]] = 1\n",
    "y[np.where(x==17)[0][0]] = 2\n",
    "y[np.where(x==18)[0][0]] = 3\n",
    "y[np.where(x==19)[0][0]] = 4\n",
    "y[np.where(x==20)[0][0]] = 5\n",
    "y[np.where(x==21)[0][0]] = 10\n",
    "y[np.where(x==22)[0][0]] = 20\n",
    "y[np.where(x==23)[0][0]] = 45\n",
    "y[np.where(x==24)[0][0]] = 70\n",
    "y[np.where(x==24.25)[0][0]] = 90\n",
    "y[np.where(x==24.5)[0][0]] = 93\n",
    "y[np.where(x==24.75)[0][0]] = 95\n",
    "y[np.where(x==25)[0][0]] = 100"
   ]
  },
  {
   "cell_type": "code",
   "execution_count": 13,
   "metadata": {},
   "outputs": [
    {
     "data": {
      "text/plain": [
       "(array([  0.,   1.,   2.,   3.,   4.,   5.,  10.,  20.,  45.,  70.,  90.,\n",
       "         93.,  95., 100.]), 14)"
      ]
     },
     "execution_count": 13,
     "metadata": {},
     "output_type": "execute_result"
    }
   ],
   "source": [
    "y, len(y)"
   ]
  },
  {
   "cell_type": "code",
   "execution_count": 14,
   "metadata": {},
   "outputs": [],
   "source": [
    "# transforming the data to include another axis\n",
    "x = x[:, np.newaxis]\n",
    "y = y[:, np.newaxis]"
   ]
  },
  {
   "cell_type": "code",
   "execution_count": 24,
   "metadata": {},
   "outputs": [
    {
     "name": "stdout",
     "output_type": "stream",
     "text": [
      "[15.] [1.0000000e+00 1.5000000e+01 2.2500000e+02 3.3750000e+03 5.0625000e+04\n",
      " 7.5937500e+05 1.1390625e+07]\n",
      "2.4202151709552826\n",
      "0.9963681906132967\n"
     ]
    },
    {
     "data": {
      "image/png": "[encoded data removed]",
      "text/plain": [
       "<Figure size 432x288 with 1 Axes>"
      ]
     },
     "metadata": {
      "needs_background": "light"
     },
     "output_type": "display_data"
    }
   ],
   "source": [
    "import operator\n",
    "\n",
    "import numpy as np\n",
    "import matplotlib.pyplot as plt\n",
    "\n",
    "from sklearn.linear_model import LinearRegression\n",
    "from sklearn.metrics import mean_squared_error, r2_score\n",
    "from sklearn.preprocessing import PolynomialFeatures\n",
    "\n",
    "\n",
    "polynomial_features= PolynomialFeatures(degree=6)\n",
    "x_poly = polynomial_features.fit_transform(x)\n",
    "print(x[0], x_poly[0])\n",
    "model = LinearRegression(fit_intercept=False)\n",
    "model.fit(x_poly, y)\n",
    "y_poly_pred = model.predict(x_poly)\n",
    "\n",
    "rmse = np.sqrt(mean_squared_error(y,y_poly_pred))\n",
    "r2 = r2_score(y,y_poly_pred)\n",
    "print(rmse)\n",
    "print(r2)\n",
    "\n",
    "plt.scatter(x, y, s=10)\n",
    "# sort the values of x before line plot\n",
    "sort_axis = operator.itemgetter(0)\n",
    "sorted_zip = sorted(zip(x,y_poly_pred), key=sort_axis)\n",
    "x, y_poly_pred = zip(*sorted_zip)\n",
    "plt.plot(x, y_poly_pred, color='m')\n",
    "plt.show()"
   ]
  },
  {
   "cell_type": "code",
   "execution_count": 25,
   "metadata": {},
   "outputs": [
    {
     "data": {
      "text/plain": [
       "array([[-1.73847074e+05,  5.58755958e+04, -7.44025533e+03,\n",
       "         5.25236313e+02, -2.07256443e+01,  4.33270309e-01,\n",
       "        -3.74702555e-03]])"
      ]
     },
     "execution_count": 25,
     "metadata": {},
     "output_type": "execute_result"
    }
   ],
   "source": [
    "model.coef_"
   ]
  },
  {
   "cell_type": "code",
   "execution_count": 26,
   "metadata": {},
   "outputs": [
    {
     "data": {
      "text/plain": [
       "0.0"
      ]
     },
     "execution_count": 26,
     "metadata": {},
     "output_type": "execute_result"
    }
   ],
   "source": [
    "model.intercept_"
   ]
  },
  {
   "cell_type": "code",
   "execution_count": 27,
   "metadata": {},
   "outputs": [],
   "source": [
    "def f(a):\n",
    "    result = model.coef_[0,0]*np.power(a, 0)\n",
    "    s1 = \"%f \"%(model.coef_[0,0])\n",
    "    s2 = \"%f \"%(model.coef_[0,0])\n",
    "    for i in range(1, len(model.coef_[0])):\n",
    "        result += model.coef_[0,i]*np.power(a, i)\n",
    "        if model.coef_[0,i] > 0:\n",
    "            s1 += \"+\"\n",
    "            s2 += \"+\"\n",
    "        \n",
    "        s1 += \"%f * x^%d \"%(model.coef_[0,i], i)\n",
    "        s2 += \"%f * pow(x, %d) \"%(model.coef_[0,i], i)\n",
    "    print(\"%s\"%(s1))\n",
    "    print(\"//#define REACTION(x) (%s)\"%(s2))\n",
    "    return result"
   ]
  },
  {
   "cell_type": "code",
   "execution_count": 28,
   "metadata": {},
   "outputs": [],
   "source": [
    "t = np.arange(0, 35, step=1)"
   ]
  },
  {
   "cell_type": "code",
   "execution_count": 29,
   "metadata": {},
   "outputs": [
    {
     "name": "stdout",
     "output_type": "stream",
     "text": [
      "-173847.074088 +55875.595836 * x^1 -7440.255326 * x^2 +525.236313 * x^3 -20.725644 * x^4 +0.433270 * x^5 -0.003747 * x^6 \n",
      "//#define REACTION(x) (-173847.074088 +55875.595836 * pow(x, 1) -7440.255326 * pow(x, 2) +525.236313 * pow(x, 3) -20.725644 * pow(x, 4) +0.433270 * pow(x, 5) -0.003747 * pow(x, 6) )\n"
     ]
    },
    {
     "data": {
      "text/plain": [
       "[<matplotlib.lines.Line2D at 0x1a1a4790f0>]"
      ]
     },
     "execution_count": 29,
     "metadata": {},
     "output_type": "execute_result"
    },
    {
     "data": {
      "image/png": "[encoded data removed]",
      "text/plain": [
       "<Figure size 432x288 with 1 Axes>"
      ]
     },
     "metadata": {
      "needs_background": "light"
     },
     "output_type": "display_data"
    }
   ],
   "source": [
    "plt.plot(t, f(t), color='m')"
   ]
  },
  {
   "cell_type": "code",
   "execution_count": null,
   "metadata": {},
   "outputs": [],
   "source": []
  }
 ],
 "metadata": {
  "kernelspec": {
   "display_name": "Python 3",
   "language": "python",
   "name": "python3"
  },
  "language_info": {
   "codemirror_mode": {
    "name": "ipython",
    "version": 3
   },
   "file_extension": ".py",
   "mimetype": "text/x-python",
   "name": "python",
   "nbconvert_exporter": "python",
   "pygments_lexer": "ipython3",
   "version": "3.6.8"
  }
 },
 "nbformat": 4,
 "nbformat_minor": 2
}
